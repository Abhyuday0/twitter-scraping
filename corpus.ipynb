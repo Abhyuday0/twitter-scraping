{
 "cells": [
  {
   "cell_type": "code",
   "execution_count": null,
   "metadata": {},
   "outputs": [],
   "source": [
    "import twint\n",
    "import nest_asyncio\n",
    "nest_asyncio.apply()\n",
    "import pandas as pd"
   ]
  },
  {
   "cell_type": "code",
   "execution_count": null,
   "metadata": {},
   "outputs": [],
   "source": [
    "df = pd.DataFrame(pd.read_csv(r\"C:\\Users\\abhyu\\Desktop\\Mar_twitterScraping\\Canadian TV shows Twitter.csv\"))\n",
    "df"
   ]
  },
  {
   "cell_type": "code",
   "execution_count": null,
   "metadata": {},
   "outputs": [],
   "source": [
    "# Get a list of hashtags for specific shows\n",
    "def get_list_of_hashtags(i):\n",
    "    df_hashtags = df.iloc[i,2:11]\n",
    "    df_hashtags = [str(x) for x in df_hashtags]\n",
    "    df_hashtags = [x for x in df_hashtags if x != 'nan']    #Clean NaN\n",
    "    return df_hashtags"
   ]
  },
  {
   "cell_type": "code",
   "execution_count": null,
   "metadata": {},
   "outputs": [],
   "source": [
    "# Method to scrape python for a list of provided hashtags and save it in a CSV\n",
    "def scrape_for_hashtags(hashtags, name_of_show):\n",
    "    c = twint.Config()\n",
    "\n",
    "    # creating a string out of the list with 'OR' between the items\n",
    "    string_hashtags = \"\"    \n",
    "    for i in hashtags:\n",
    "        if hashtags.index(i) == len(hashtags)-1:\n",
    "            string_hashtags = string_hashtags + i\n",
    "            break\n",
    "        string_hashtags = string_hashtags + i + \" OR \"\n",
    "         \n",
    "    c.Search = string_hashtags\n",
    "    c.Near = \"United States\"\n",
    "    # c.Custom[\"tweet\"] = [\"tweet\"]\n",
    "    c.Store_csv = True\n",
    "    c.Output = 'C:/Users/abhyu/Desktop/Mar_twitterScraping/show_data/' + name_of_show + '.csv'\n",
    "\n",
    "    twint.run.Search(c)"
   ]
  },
  {
   "cell_type": "code",
   "execution_count": null,
   "metadata": {},
   "outputs": [],
   "source": [
    "# Mechanism to switch shows\n",
    "\n",
    "for i in range(25):\n",
    "    name_of_show = df.iloc[i , 0]\n",
    "    hashtags = get_list_of_hashtags(i)\n",
    "    scrape_for_hashtags(hashtags, name_of_show)\n",
    "\n",
    "\n",
    "# Testing\n",
    "# i = 0   # i is the index of the show\n",
    "# name_of_show = df.iloc[i , 0]\n",
    "# hashtags = get_list_of_hashtags(i)\n",
    "# scrape_for_hashtags(hashtags, name_of_show)"
   ]
  }
 ],
 "metadata": {
  "kernelspec": {
   "display_name": "Python 3.10.5 64-bit",
   "language": "python",
   "name": "python3"
  },
  "language_info": {
   "codemirror_mode": {
    "name": "ipython",
    "version": 3
   },
   "file_extension": ".py",
   "mimetype": "text/x-python",
   "name": "python",
   "nbconvert_exporter": "python",
   "pygments_lexer": "ipython3",
   "version": "3.10.5"
  },
  "orig_nbformat": 4,
  "vscode": {
   "interpreter": {
    "hash": "70f7196d6bc20009748e8aff01cde381ebebfbcc6f9843c14b33e0a33895b9e0"
   }
  }
 },
 "nbformat": 4,
 "nbformat_minor": 2
}
